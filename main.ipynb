{
  "cells": [
    {
      "cell_type": "code",
      "execution_count": 1,
      "metadata": {
        "id": "ozlpZsFE93D3"
      },
      "outputs": [],
      "source": [
        "import numpy as np\n",
        "import cv2\n",
        "import time\n",
        "import torch\n",
        "from Kalman_filter import Kalman_filter\n",
        "from utilities import bb_iou, association_metric\n",
        "from Tracker import Tracker\n",
        "import warnings\n",
        "warnings.filterwarnings(\"ignore\")"
      ]
    },
    {
      "cell_type": "code",
      "execution_count": 2,
      "metadata": {
        "id": "0DkwVeew4h-0",
        "scrolled": true,
        "colab": {
          "base_uri": "https://localhost:8080/"
        },
        "outputId": "1ba1916a-061b-4536-e622-1bae96e26220"
      },
      "outputs": [
        {
          "output_type": "stream",
          "name": "stderr",
          "text": [
            "Using cache found in /root/.cache/torch/hub/ultralytics_yolov5_master\n",
            "YOLOv5 🚀 2023-11-16 Python-3.10.12 torch-2.1.0+cu118 CUDA:0 (Tesla T4, 15102MiB)\n",
            "\n",
            "Fusing layers... \n",
            "YOLOv5s summary: 213 layers, 7225885 parameters, 0 gradients, 16.4 GFLOPs\n",
            "Adding AutoShape... \n"
          ]
        }
      ],
      "source": [
        "#import the detection model with coco weights\n",
        "model = torch.hub.load('ultralytics/yolov5', 'yolov5s')\n",
        "person_id = 0"
      ]
    },
    {
      "cell_type": "code",
      "execution_count": 3,
      "metadata": {
        "id": "XqfDe_Ei3zoM"
      },
      "outputs": [],
      "source": [
        "# read the video\n",
        "capture = cv2.VideoCapture('input.mp4')\n",
        "# Configure settings to save the output video\n",
        "fourcc  = cv2.VideoWriter_fourcc(*'MP4V')\n",
        "width, height = capture.get(cv2.CAP_PROP_FRAME_WIDTH), capture.get(cv2.CAP_PROP_FRAME_HEIGHT)\n",
        "fps = capture.get(cv2.CAP_PROP_FPS)\n",
        "out = cv2.VideoWriter('output.mp4', fourcc, fps, (int(width), int(height)))\n",
        "\n",
        "tracking = Tracker()\n",
        "while capture.isOpened():\n",
        "  try:\n",
        "      bool_result,frame_feed = capture.read()\n",
        "      results = model(frame_feed)\n",
        "      results = results.xyxy[0].cpu().numpy()\n",
        "      results = results[results[:,-2] > 0.5]\n",
        "      results = results.astype(int)\n",
        "      results = results[results[:, -1] == person_id]\n",
        "      tracking.predict()\n",
        "      un = tracking.update(results[:,:4])\n",
        "      for i, trk in enumerate(tracking.tracks):\n",
        "        if i not in un:\n",
        "          cv2.rectangle(frame_feed, (int(trk.X[0])+2,int(trk.X[1])),(int(trk.X[2])+2, int(trk.X[3])), (255,0,0) ,2)  # filled\n",
        "          cv2.putText(frame_feed,str(trk.track_id),(int(trk.X[0])+2,int(trk.X[1])),cv2.FONT_HERSHEY_PLAIN, 3, (255,0,0),2)\n",
        "      out.write(frame_feed)\n",
        "  except:\n",
        "    break\n",
        "out.release()"
      ]
    }
  ],
  "metadata": {
    "accelerator": "GPU",
    "colab": {
      "gpuType": "T4",
      "provenance": []
    },
    "kernelspec": {
      "display_name": "Python 3 (ipykernel)",
      "language": "python",
      "name": "python3"
    },
    "language_info": {
      "codemirror_mode": {
        "name": "ipython",
        "version": 3
      },
      "file_extension": ".py",
      "mimetype": "text/x-python",
      "name": "python",
      "nbconvert_exporter": "python",
      "pygments_lexer": "ipython3",
      "version": "3.8.13"
    }
  },
  "nbformat": 4,
  "nbformat_minor": 0
}